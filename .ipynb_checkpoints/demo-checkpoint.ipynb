{
 "cells": [
  {
   "cell_type": "code",
   "execution_count": 5,
   "metadata": {
    "collapsed": true,
    "deletable": true,
    "editable": true
   },
   "outputs": [],
   "source": [
    "from custgeneratorv2 import customerMaker, customerFeeder"
   ]
  },
  {
   "cell_type": "markdown",
   "metadata": {
    "deletable": true,
    "editable": true
   },
   "source": [
    "# The Multi-Armed Hobbit"
   ]
  },
  {
   "cell_type": "markdown",
   "metadata": {},
   "source": [
    "![Hobbit](files/The_Hobbit.jpg)"
   ]
  },
  {
   "cell_type": "markdown",
   "metadata": {},
   "source": [
    "> *You are a ring dealer in Middle Earth. You operate in barter economy, so when new customers come to you, you must do dynamic pricing. If you ask for too much, the customer will reject your offer, and if you ask for too little, you leave money on the table. You are left with no choice but to use the magic of **Deep Learning** to  figure out how much to charge your client. *"
   ]
  },
  {
   "cell_type": "markdown",
   "metadata": {},
   "source": [
    "![Ring](files/ring.jpeg)"
   ]
  },
  {
   "cell_type": "markdown",
   "metadata": {},
   "source": [
    "> *Your customers are drawn from a stochastic generator. Customers have can be of different: species (orc, troll, hobbit, human, dwarf, elf, wizard, dragon), magic levels (begginer, medium, advanced), power hunger (unambitious, thirsty), and status (proletariat, bourgeoisie, landlord). Each customer's attributes determine their personal willingness to pay. Complex non-linearities create the williness-to-pay function, and so a DL model is useful to you.*  "
   ]
  },
  {
   "cell_type": "markdown",
   "metadata": {},
   "source": [
    "![Species](files/species.png)"
   ]
  },
  {
   "cell_type": "markdown",
   "metadata": {},
   "source": [
    "> *First, each species comes with their own Dirichlet distribution- which is just a case of the multinomial Beta. Bellow is what the Dirichelt looks like for a 3D distribution. Thus, each species has a different propensity to pay. In addition, other features influence how likely the cusotmer is to agree to a deal.*  "
   ]
  },
  {
   "cell_type": "markdown",
   "metadata": {},
   "source": [
    "![Dirichlet](files/Dirichlet.png)"
   ]
  },
  {
   "cell_type": "markdown",
   "metadata": {
    "collapsed": true,
    "deletable": true,
    "editable": true
   },
   "source": [
    "> *let's do some business*"
   ]
  },
  {
   "cell_type": "code",
   "execution_count": 6,
   "metadata": {
    "collapsed": false
   },
   "outputs": [
    {
     "data": {
      "text/plain": [
       "('elf', 'beginner', 'thirsty', 'landlord')"
      ]
     },
     "execution_count": 6,
     "metadata": {},
     "output_type": "execute_result"
    }
   ],
   "source": [
    "#reveal customer/\n",
    "cust = customerMaker()\n",
    "cust.getContext()"
   ]
  },
  {
   "cell_type": "markdown",
   "metadata": {},
   "source": [
    "![Orlando](files/elf.jpg)"
   ]
  },
  {
   "cell_type": "code",
   "execution_count": 7,
   "metadata": {
    "collapsed": false
   },
   "outputs": [
    {
     "data": {
      "text/plain": [
       "5"
      ]
     },
     "execution_count": 7,
     "metadata": {},
     "output_type": "execute_result"
    }
   ],
   "source": [
    "#what's the willingness to pay?\n",
    "cust.getWtp() "
   ]
  },
  {
   "cell_type": "code",
   "execution_count": 9,
   "metadata": {
    "collapsed": false
   },
   "outputs": [
    {
     "data": {
      "text/plain": [
       "1"
      ]
     },
     "execution_count": 9,
     "metadata": {},
     "output_type": "execute_result"
    }
   ],
   "source": [
    "#but we don't know that, so we ask for our average price point:\n",
    "cust.acceptOffer(3)"
   ]
  },
  {
   "cell_type": "markdown",
   "metadata": {},
   "source": [
    "> *The customer accepts, and you lost 2 coins to cummulative regret. These are the principles of the multi-armed bandit paradigm. It's semi-supervised learning where the reward(how many coins you made) is revealed only for the arm (price to charge) chosen *"
   ]
  },
  {
   "cell_type": "code",
   "execution_count": 10,
   "metadata": {
    "collapsed": false
   },
   "outputs": [
    {
     "data": {
      "text/plain": [
       "('dragon', 'advanced', 'thirsty', 'bourgeoisie')"
      ]
     },
     "execution_count": 10,
     "metadata": {},
     "output_type": "execute_result"
    }
   ],
   "source": [
    "#let's see some other customers:\n",
    "cust.getContext()"
   ]
  },
  {
   "cell_type": "markdown",
   "metadata": {},
   "source": [
    "> *That's it! Take a look at the **single_price** notebook for a model that charges a new price for each customer and the **dynamic_price notebook** for a model that continues to barter with customers when they return* "
   ]
  }
 ],
 "metadata": {
  "kernelspec": {
   "display_name": "Python 3",
   "language": "python",
   "name": "python3"
  },
  "language_info": {
   "codemirror_mode": {
    "name": "ipython",
    "version": 3
   },
   "file_extension": ".py",
   "mimetype": "text/x-python",
   "name": "python",
   "nbconvert_exporter": "python",
   "pygments_lexer": "ipython3",
   "version": "3.6.0"
  }
 },
 "nbformat": 4,
 "nbformat_minor": 2
}
